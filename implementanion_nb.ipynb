{
 "cells": [
  {
   "cell_type": "code",
   "execution_count": 136,
   "metadata": {},
   "outputs": [],
   "source": [
    "from gerador import gerador_instancias\n",
    "import pandas as pd\n",
    "import matplotlib\n",
    "import time"
   ]
  },
  {
   "cell_type": "code",
   "execution_count": 137,
   "metadata": {},
   "outputs": [],
   "source": [
    "# v: idx do vertice # l: limite esquerdo do intervalo do vertice # r: limite direito do intervalo do vertice \n",
    "def constroi(a: list, v: int, l: int, r: int) -> None:  \n",
    "    if v == 1:     \n",
    "        global st\n",
    "        st = [0] * (4*len(a)) # tamanho da arvore é O(4n) -> 1 + 2 + 4 ... 2^logn <= 2^logn + 1 <= 4n\n",
    "    \n",
    "    if( l == r ):\n",
    "        st[v] = a[l] # nós folhas (caso base)\n",
    "        return None\n",
    "    else:\n",
    "        m = (l + r) // 2\n",
    "\n",
    "        constroi(a, v*2, l, m) # calcula o filho da esquerda recursivamente\n",
    "        constroi(a, v*2+1, m + 1, r) # calcula o filho da direita recursivamente\n",
    "        \n",
    "        st[v] = st[v*2] + st[v*2 + 1] # a soma de um vértice interno é soma da soma dos seus filhos\n",
    "        \n",
    "        return None"
   ]
  },
  {
   "cell_type": "code",
   "execution_count": 138,
   "metadata": {},
   "outputs": [],
   "source": [
    "# v: idx do vertice # il: limite esquerdo do intervalo de interesse #ir: limite direito do intervalo de interesse # l: limite esquerdo do intervalo do vertice # r: limite direito do intervalo do vertice\n",
    "def consulta(v: int, il: int, ir: int, l: int, r: int) -> int:\n",
    "    global st\n",
    "    \n",
    "\n",
    "    print(il, ir)\n",
    "    \n",
    "    \n",
    "    if(l > r): # intervalo desejado está fora do intervalo do vértice atual\n",
    "        print(\"if 1\")\n",
    "        return 0\n",
    "\n",
    "    if(il == l and ir == r): # intervalo de interesse casa com o intervalo do vertice atual\n",
    "        print(\"if 2\")\n",
    "        return st[v]\n",
    "    \n",
    "    im = (il + ir) // 2\n",
    "\n",
    "    return consulta(2*v, il, im, l, min(im + 1, r)) + consulta(2*v + 1, im + 1 , ir, max(l, im + 1), r)"
   ]
  },
  {
   "cell_type": "code",
   "execution_count": 139,
   "metadata": {},
   "outputs": [
    {
     "data": {
      "text/plain": [
       "'a = [1, 3, -2, 8, -7]\\n\\nconstroi(a, 1, 0, 4)\\n\\n\\nprint(st)\\n\\n\\nconsulta(1, 0, 2, 0, 4)'"
      ]
     },
     "execution_count": 139,
     "metadata": {},
     "output_type": "execute_result"
    }
   ],
   "source": [
    "'''a = [1, 3, -2, 8, -7]\n",
    "\n",
    "constroi(a, 1, 0, 4)\n",
    "\n",
    "\n",
    "print(st)\n",
    "\n",
    "\n",
    "consulta(1, 0, 2, 0, 4)'''"
   ]
  },
  {
   "cell_type": "code",
   "execution_count": 140,
   "metadata": {},
   "outputs": [
    {
     "name": "stdout",
     "output_type": "stream",
     "text": [
      "[0, 10, 4, 6, 1, 3, 3, 3, 0, 1, 0, 0, 5, -2, 0, 0, 0, 0, 0, 0, 0, 0, 0, 0]\n"
     ]
    }
   ],
   "source": [
    "b = [0, 1, 3, 5, -2, 3]\n",
    "\n",
    "\n",
    "\n",
    "constroi(b, 1, 0, 5)\n",
    "\n",
    "print(st)"
   ]
  },
  {
   "cell_type": "code",
   "execution_count": 141,
   "metadata": {},
   "outputs": [],
   "source": [
    "instancias = gerador_instancias(500, 5, 100000)\n",
    "tamanho_col = []\n",
    "tempo_construcao_col = []  \n",
    "\n",
    "for i in range(len(instancias)):\n",
    "    \n",
    "    cur_inst = instancias[i]\n",
    "\n",
    "    start_time = time.time()\n",
    "\n",
    "    arvore = constroi(cur_inst, 1, 0, (len(cur_inst)-1))\n",
    "\n",
    "    tempo_construcao = time.time() - start_time\n",
    "\n",
    "    tamanho_col.append(len(cur_inst))\n",
    "\n",
    "    tempo_construcao_col.append(tempo_construcao)"
   ]
  },
  {
   "cell_type": "code",
   "execution_count": 142,
   "metadata": {},
   "outputs": [],
   "source": [
    "df = pd.DataFrame(columns=[\"tamanho\", \"tempo_construcao\"])\n",
    "\n",
    "df[\"tamanho\"] = tamanho_col\n",
    "df[\"tempo_construcao\"] = tempo_construcao_col "
   ]
  },
  {
   "cell_type": "code",
   "execution_count": 143,
   "metadata": {},
   "outputs": [
    {
     "data": {
      "text/html": [
       "<div>\n",
       "<style scoped>\n",
       "    .dataframe tbody tr th:only-of-type {\n",
       "        vertical-align: middle;\n",
       "    }\n",
       "\n",
       "    .dataframe tbody tr th {\n",
       "        vertical-align: top;\n",
       "    }\n",
       "\n",
       "    .dataframe thead th {\n",
       "        text-align: right;\n",
       "    }\n",
       "</style>\n",
       "<table border=\"1\" class=\"dataframe\">\n",
       "  <thead>\n",
       "    <tr style=\"text-align: right;\">\n",
       "      <th></th>\n",
       "      <th>tamanho</th>\n",
       "      <th>tempo_construcao</th>\n",
       "    </tr>\n",
       "  </thead>\n",
       "  <tbody>\n",
       "    <tr>\n",
       "      <th>0</th>\n",
       "      <td>82964</td>\n",
       "      <td>0.037307</td>\n",
       "    </tr>\n",
       "    <tr>\n",
       "      <th>1</th>\n",
       "      <td>5046</td>\n",
       "      <td>0.004924</td>\n",
       "    </tr>\n",
       "    <tr>\n",
       "      <th>2</th>\n",
       "      <td>55371</td>\n",
       "      <td>0.025917</td>\n",
       "    </tr>\n",
       "    <tr>\n",
       "      <th>3</th>\n",
       "      <td>91119</td>\n",
       "      <td>0.043243</td>\n",
       "    </tr>\n",
       "    <tr>\n",
       "      <th>4</th>\n",
       "      <td>22873</td>\n",
       "      <td>0.013369</td>\n",
       "    </tr>\n",
       "    <tr>\n",
       "      <th>...</th>\n",
       "      <td>...</td>\n",
       "      <td>...</td>\n",
       "    </tr>\n",
       "    <tr>\n",
       "      <th>495</th>\n",
       "      <td>67980</td>\n",
       "      <td>0.031651</td>\n",
       "    </tr>\n",
       "    <tr>\n",
       "      <th>496</th>\n",
       "      <td>88044</td>\n",
       "      <td>0.041906</td>\n",
       "    </tr>\n",
       "    <tr>\n",
       "      <th>497</th>\n",
       "      <td>31915</td>\n",
       "      <td>0.017024</td>\n",
       "    </tr>\n",
       "    <tr>\n",
       "      <th>498</th>\n",
       "      <td>79051</td>\n",
       "      <td>0.036416</td>\n",
       "    </tr>\n",
       "    <tr>\n",
       "      <th>499</th>\n",
       "      <td>13349</td>\n",
       "      <td>0.008404</td>\n",
       "    </tr>\n",
       "  </tbody>\n",
       "</table>\n",
       "<p>500 rows × 2 columns</p>\n",
       "</div>"
      ],
      "text/plain": [
       "     tamanho  tempo_construcao\n",
       "0      82964          0.037307\n",
       "1       5046          0.004924\n",
       "2      55371          0.025917\n",
       "3      91119          0.043243\n",
       "4      22873          0.013369\n",
       "..       ...               ...\n",
       "495    67980          0.031651\n",
       "496    88044          0.041906\n",
       "497    31915          0.017024\n",
       "498    79051          0.036416\n",
       "499    13349          0.008404\n",
       "\n",
       "[500 rows x 2 columns]"
      ]
     },
     "execution_count": 143,
     "metadata": {},
     "output_type": "execute_result"
    }
   ],
   "source": [
    "df"
   ]
  },
  {
   "cell_type": "code",
   "execution_count": 144,
   "metadata": {},
   "outputs": [
    {
     "data": {
      "text/plain": [
       "<Axes: xlabel='tempo_construcao', ylabel='tamanho'>"
      ]
     },
     "execution_count": 144,
     "metadata": {},
     "output_type": "execute_result"
    },
    {
     "data": {
      "image/png": "[encoded data removed]",
      "text/plain": [
       "<Figure size 640x480 with 1 Axes>"
      ]
     },
     "metadata": {},
     "output_type": "display_data"
    }
   ],
   "source": [
    "df.plot(\"tempo_construcao\", \"tamanho\", \"scatter\")"
   ]
  }
 ],
 "metadata": {
  "kernelspec": {
   "display_name": "Python 3",
   "language": "python",
   "name": "python3"
  },
  "language_info": {
   "codemirror_mode": {
    "name": "ipython",
    "version": 3
   },
   "file_extension": ".py",
   "mimetype": "text/x-python",
   "name": "python",
   "nbconvert_exporter": "python",
   "pygments_lexer": "ipython3",
   "version": "3.13.2"
  }
 },
 "nbformat": 4,
 "nbformat_minor": 2
}
