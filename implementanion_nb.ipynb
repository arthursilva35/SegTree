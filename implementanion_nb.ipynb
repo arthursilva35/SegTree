{
 "cells": [
  {
   "cell_type": "code",
   "execution_count": 161,
   "metadata": {},
   "outputs": [],
   "source": [
    "from gerador import gerador_instancias\n",
    "import pandas as pd\n",
    "import matplotlib\n",
    "import time"
   ]
  },
  {
   "cell_type": "markdown",
   "metadata": {},
   "source": [
    "## Implementação simples dos algoritmos para construção e consulta em uma Segment Tree de soma"
   ]
  },
  {
   "cell_type": "markdown",
   "metadata": {},
   "source": [
    "Legenda de parâmetros:\n",
    "a: array para o qual a seg tree está sendo construída // v: índice do vertice atual da árvore // l: limite esquerdo do intervalo do vertice // r: limite direito do intervalo do vertice."
   ]
  },
  {
   "cell_type": "code",
   "execution_count": 162,
   "metadata": {},
   "outputs": [],
   "source": [
    "def constroi(a: list, v: int, l: int, r: int) -> None:  \n",
    "    if v == 1:     \n",
    "        global st\n",
    "        st = [0] * (4*len(a)) # tamanho da arvore é O(4n)\n",
    "    \n",
    "    if( l == r ):\n",
    "        st[v] = a[l] # nós folhas (caso base)\n",
    "        return None\n",
    "    else:\n",
    "        m = (l + r) // 2\n",
    "\n",
    "        constroi(a, v*2, l, m) # calcula o filho da esquerda recursivamente\n",
    "        constroi(a, v*2+1, m + 1, r) # calcula o filho da direita recursivamente\n",
    "        \n",
    "        st[v] = st[v*2] + st[v*2 + 1] # o valor de um vértice interno é soma dos valores dos seus filhos\n",
    "        \n",
    "        return None"
   ]
  },
  {
   "cell_type": "markdown",
   "metadata": {},
   "source": [
    "Legenda de parâmetros:\n",
    "v: índice do vertice atual da árvore // il: limite esquerdo do intervalo de interesse // ir: limite direito do intervalo de interesse // l: limite esquerdo do intervalo do vertice // r: limite direito do intervalo do vertice."
   ]
  },
  {
   "cell_type": "code",
   "execution_count": 163,
   "metadata": {},
   "outputs": [],
   "source": [
    "# v: idx do vertice # il: limite esquerdo do intervalo de interesse #ir: limite direito do intervalo de interesse # l: limite esquerdo do intervalo do vertice # r: limite direito do intervalo do vertice\n",
    "def consulta(v: int, il: int, ir: int, l: int, r: int) -> int:\n",
    "    global st\n",
    "    \n",
    "\n",
    "    print(il, ir)\n",
    "    \n",
    "    \n",
    "    if(l > r): # intervalo desejado está fora do intervalo do vértice atual\n",
    "        print(\"if 1\")\n",
    "        return 0\n",
    "\n",
    "    if(il == l and ir == r): # intervalo de interesse casa com o intervalo do vertice atual\n",
    "        print(\"if 2\")\n",
    "        return st[v]\n",
    "    \n",
    "    im = (il + ir) // 2\n",
    "\n",
    "    return consulta(2*v, il, im, l, min(im + 1, r)) + consulta(2*v + 1, im + 1 , ir, max(l, im + 1), r)"
   ]
  },
  {
   "cell_type": "code",
   "execution_count": 164,
   "metadata": {},
   "outputs": [
    {
     "name": "stdout",
     "output_type": "stream",
     "text": [
      "[0, 10, 4, 6, 1, 3, 3, 3, 0, 1, 0, 0, 5, -2, 0, 0, 0, 0, 0, 0, 0, 0, 0, 0]\n"
     ]
    }
   ],
   "source": [
    "b = [0, 1, 3, 5, -2, 3]\n",
    "\n",
    "\n",
    "\n",
    "constroi(b, 1, 0, 5)\n",
    "\n",
    "print(st)"
   ]
  },
  {
   "cell_type": "code",
   "execution_count": 165,
   "metadata": {},
   "outputs": [],
   "source": [
    "instancias = gerador_instancias(500, 5, 100000)\n",
    "tamanho_col = []\n",
    "tempo_construcao_col = []  \n",
    "\n",
    "for i in range(len(instancias)):\n",
    "    \n",
    "    cur_inst = instancias[i]\n",
    "\n",
    "    start_time = time.time()\n",
    "\n",
    "    arvore = constroi(cur_inst, 1, 0, (len(cur_inst)-1))\n",
    "\n",
    "    tempo_construcao = time.time() - start_time\n",
    "\n",
    "    tamanho_col.append(len(cur_inst))\n",
    "\n",
    "    tempo_construcao_col.append(tempo_construcao)"
   ]
  },
  {
   "cell_type": "code",
   "execution_count": 166,
   "metadata": {},
   "outputs": [],
   "source": [
    "df = pd.DataFrame(columns=[\"tamanho\", \"tempo_construcao\"])\n",
    "\n",
    "df[\"tamanho\"] = tamanho_col\n",
    "df[\"tempo_construcao\"] = tempo_construcao_col "
   ]
  },
  {
   "cell_type": "code",
   "execution_count": 167,
   "metadata": {},
   "outputs": [
    {
     "data": {
      "text/html": [
       "<div>\n",
       "<style scoped>\n",
       "    .dataframe tbody tr th:only-of-type {\n",
       "        vertical-align: middle;\n",
       "    }\n",
       "\n",
       "    .dataframe tbody tr th {\n",
       "        vertical-align: top;\n",
       "    }\n",
       "\n",
       "    .dataframe thead th {\n",
       "        text-align: right;\n",
       "    }\n",
       "</style>\n",
       "<table border=\"1\" class=\"dataframe\">\n",
       "  <thead>\n",
       "    <tr style=\"text-align: right;\">\n",
       "      <th></th>\n",
       "      <th>tamanho</th>\n",
       "      <th>tempo_construcao</th>\n",
       "    </tr>\n",
       "  </thead>\n",
       "  <tbody>\n",
       "    <tr>\n",
       "      <th>0</th>\n",
       "      <td>26716</td>\n",
       "      <td>0.012979</td>\n",
       "    </tr>\n",
       "    <tr>\n",
       "      <th>1</th>\n",
       "      <td>10879</td>\n",
       "      <td>0.005561</td>\n",
       "    </tr>\n",
       "    <tr>\n",
       "      <th>2</th>\n",
       "      <td>53347</td>\n",
       "      <td>0.025558</td>\n",
       "    </tr>\n",
       "    <tr>\n",
       "      <th>3</th>\n",
       "      <td>83125</td>\n",
       "      <td>0.040076</td>\n",
       "    </tr>\n",
       "    <tr>\n",
       "      <th>4</th>\n",
       "      <td>40125</td>\n",
       "      <td>0.020492</td>\n",
       "    </tr>\n",
       "    <tr>\n",
       "      <th>...</th>\n",
       "      <td>...</td>\n",
       "      <td>...</td>\n",
       "    </tr>\n",
       "    <tr>\n",
       "      <th>495</th>\n",
       "      <td>44519</td>\n",
       "      <td>0.021900</td>\n",
       "    </tr>\n",
       "    <tr>\n",
       "      <th>496</th>\n",
       "      <td>54671</td>\n",
       "      <td>0.029594</td>\n",
       "    </tr>\n",
       "    <tr>\n",
       "      <th>497</th>\n",
       "      <td>44329</td>\n",
       "      <td>0.021793</td>\n",
       "    </tr>\n",
       "    <tr>\n",
       "      <th>498</th>\n",
       "      <td>48329</td>\n",
       "      <td>0.024250</td>\n",
       "    </tr>\n",
       "    <tr>\n",
       "      <th>499</th>\n",
       "      <td>58193</td>\n",
       "      <td>0.027820</td>\n",
       "    </tr>\n",
       "  </tbody>\n",
       "</table>\n",
       "<p>500 rows × 2 columns</p>\n",
       "</div>"
      ],
      "text/plain": [
       "     tamanho  tempo_construcao\n",
       "0      26716          0.012979\n",
       "1      10879          0.005561\n",
       "2      53347          0.025558\n",
       "3      83125          0.040076\n",
       "4      40125          0.020492\n",
       "..       ...               ...\n",
       "495    44519          0.021900\n",
       "496    54671          0.029594\n",
       "497    44329          0.021793\n",
       "498    48329          0.024250\n",
       "499    58193          0.027820\n",
       "\n",
       "[500 rows x 2 columns]"
      ]
     },
     "execution_count": 167,
     "metadata": {},
     "output_type": "execute_result"
    }
   ],
   "source": [
    "df"
   ]
  },
  {
   "cell_type": "code",
   "execution_count": 168,
   "metadata": {},
   "outputs": [
    {
     "data": {
      "text/plain": [
       "<Axes: xlabel='tempo_construcao', ylabel='tamanho'>"
      ]
     },
     "execution_count": 168,
     "metadata": {},
     "output_type": "execute_result"
    },
    {
     "data": {
      "image/png": "[encoded data removed]",
      "text/plain": [
       "<Figure size 640x480 with 1 Axes>"
      ]
     },
     "metadata": {},
     "output_type": "display_data"
    }
   ],
   "source": [
    "df.plot(\"tempo_construcao\", \"tamanho\", \"scatter\")"
   ]
  }
 ],
 "metadata": {
  "kernelspec": {
   "display_name": "Python 3",
   "language": "python",
   "name": "python3"
  },
  "language_info": {
   "codemirror_mode": {
    "name": "ipython",
    "version": 3
   },
   "file_extension": ".py",
   "mimetype": "text/x-python",
   "name": "python",
   "nbconvert_exporter": "python",
   "pygments_lexer": "ipython3",
   "version": "3.13.2"
  }
 },
 "nbformat": 4,
 "nbformat_minor": 2
}
