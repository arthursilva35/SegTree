{
 "cells": [
  {
   "cell_type": "code",
   "execution_count": 42,
   "metadata": {},
   "outputs": [],
   "source": [
    "from gerador import gerador_instancias\n",
    "import pandas as pd\n",
    "import matplotlib\n",
    "import time"
   ]
  },
  {
   "cell_type": "code",
   "execution_count": 43,
   "metadata": {},
   "outputs": [],
   "source": [
    "# v: idx do vertice # l: limite esquerdo do intervalo do vertice # r: limite direito do intervalo do vertice \n",
    "def constroi(a: list, v: int, l: int, r: int) -> None:  \n",
    "    if v == 1:     \n",
    "        global st\n",
    "        st = [0] * (4*len(a)) # tamanho da arvore é O(4n) -> 1 + 2 + 4 ... 2^logn <= 2^logn + 1 <= 4n\n",
    "    \n",
    "    if( l == r ):\n",
    "        st[v] = a[l] # nós folhas (caso base)\n",
    "        return None\n",
    "    else:\n",
    "        m = (l + r)/2\n",
    "\n",
    "        m = int(m)\n",
    "\n",
    "        constroi(a, v*2, l, m) # calcula o filho da esquerda recursivamente\n",
    "        constroi(a, v*2+1, m + 1, r) # calcula o filho da direita recursivamente\n",
    "        \n",
    "        st[v] = st[v*2] + st[v*2 + 1] # a soma de um vértice interno é soma da soma dos seus filhos\n",
    "        \n",
    "        return None"
   ]
  },
  {
   "cell_type": "code",
   "execution_count": 44,
   "metadata": {},
   "outputs": [
    {
     "name": "stdout",
     "output_type": "stream",
     "text": [
      "[0, 3, 2, 1, 4, -2, 8, -7, 1, 3, 0, 0, 0, 0, 0, 0, 0, 0, 0, 0]\n"
     ]
    }
   ],
   "source": [
    "a = [1, 3, -2, 8, -7]\n",
    "\n",
    "constroi(a, 1, 0, 4)\n",
    "\n",
    "\n",
    "print(st)"
   ]
  },
  {
   "cell_type": "code",
   "execution_count": 45,
   "metadata": {},
   "outputs": [
    {
     "name": "stdout",
     "output_type": "stream",
     "text": [
      "[0, 10, 4, 6, 1, 3, 3, 3, 0, 1, 0, 0, 5, -2, 0, 0, 0, 0, 0, 0, 0, 0, 0, 0]\n"
     ]
    }
   ],
   "source": [
    "b = [0, 1, 3, 5, -2, 3]\n",
    "\n",
    "\n",
    "\n",
    "constroi(b, 1, 0, 5)\n",
    "\n",
    "print(st)"
   ]
  },
  {
   "cell_type": "code",
   "execution_count": 46,
   "metadata": {},
   "outputs": [],
   "source": [
    "instancias = gerador_instancias(200, 5, 10000)\n",
    "tamanho_col = []\n",
    "tempo_construcao_col = []  \n",
    "\n",
    "for i in range(len(instancias)):\n",
    "    \n",
    "    cur_inst = instancias[i]\n",
    "\n",
    "    start_time = time.time()\n",
    "\n",
    "    arvore = constroi(cur_inst, 1, 0, (len(cur_inst)-1))\n",
    "\n",
    "    tempo_construcao = time.time() - start_time\n",
    "\n",
    "    tamanho_col.append(len(cur_inst))\n",
    "\n",
    "    tempo_construcao_col.append(tempo_construcao)"
   ]
  },
  {
   "cell_type": "code",
   "execution_count": 47,
   "metadata": {},
   "outputs": [],
   "source": [
    "df = pd.DataFrame(columns=[\"tamanho\", \"tempo_construcao\"])\n",
    "\n",
    "df[\"tamanho\"] = tamanho_col\n",
    "df[\"tempo_construcao\"] = tempo_construcao_col "
   ]
  },
  {
   "cell_type": "code",
   "execution_count": 48,
   "metadata": {},
   "outputs": [
    {
     "data": {
      "text/html": [
       "<div>\n",
       "<style scoped>\n",
       "    .dataframe tbody tr th:only-of-type {\n",
       "        vertical-align: middle;\n",
       "    }\n",
       "\n",
       "    .dataframe tbody tr th {\n",
       "        vertical-align: top;\n",
       "    }\n",
       "\n",
       "    .dataframe thead th {\n",
       "        text-align: right;\n",
       "    }\n",
       "</style>\n",
       "<table border=\"1\" class=\"dataframe\">\n",
       "  <thead>\n",
       "    <tr style=\"text-align: right;\">\n",
       "      <th></th>\n",
       "      <th>tamanho</th>\n",
       "      <th>tempo_construcao</th>\n",
       "    </tr>\n",
       "  </thead>\n",
       "  <tbody>\n",
       "    <tr>\n",
       "      <th>0</th>\n",
       "      <td>1115</td>\n",
       "      <td>0.000610</td>\n",
       "    </tr>\n",
       "    <tr>\n",
       "      <th>1</th>\n",
       "      <td>5389</td>\n",
       "      <td>0.002750</td>\n",
       "    </tr>\n",
       "    <tr>\n",
       "      <th>2</th>\n",
       "      <td>2774</td>\n",
       "      <td>0.001462</td>\n",
       "    </tr>\n",
       "    <tr>\n",
       "      <th>3</th>\n",
       "      <td>1968</td>\n",
       "      <td>0.001009</td>\n",
       "    </tr>\n",
       "    <tr>\n",
       "      <th>4</th>\n",
       "      <td>1140</td>\n",
       "      <td>0.000573</td>\n",
       "    </tr>\n",
       "    <tr>\n",
       "      <th>...</th>\n",
       "      <td>...</td>\n",
       "      <td>...</td>\n",
       "    </tr>\n",
       "    <tr>\n",
       "      <th>195</th>\n",
       "      <td>3458</td>\n",
       "      <td>0.001594</td>\n",
       "    </tr>\n",
       "    <tr>\n",
       "      <th>196</th>\n",
       "      <td>2730</td>\n",
       "      <td>0.001308</td>\n",
       "    </tr>\n",
       "    <tr>\n",
       "      <th>197</th>\n",
       "      <td>2149</td>\n",
       "      <td>0.001035</td>\n",
       "    </tr>\n",
       "    <tr>\n",
       "      <th>198</th>\n",
       "      <td>573</td>\n",
       "      <td>0.000279</td>\n",
       "    </tr>\n",
       "    <tr>\n",
       "      <th>199</th>\n",
       "      <td>2565</td>\n",
       "      <td>0.001185</td>\n",
       "    </tr>\n",
       "  </tbody>\n",
       "</table>\n",
       "<p>200 rows × 2 columns</p>\n",
       "</div>"
      ],
      "text/plain": [
       "     tamanho  tempo_construcao\n",
       "0       1115          0.000610\n",
       "1       5389          0.002750\n",
       "2       2774          0.001462\n",
       "3       1968          0.001009\n",
       "4       1140          0.000573\n",
       "..       ...               ...\n",
       "195     3458          0.001594\n",
       "196     2730          0.001308\n",
       "197     2149          0.001035\n",
       "198      573          0.000279\n",
       "199     2565          0.001185\n",
       "\n",
       "[200 rows x 2 columns]"
      ]
     },
     "execution_count": 48,
     "metadata": {},
     "output_type": "execute_result"
    }
   ],
   "source": [
    "df"
   ]
  },
  {
   "cell_type": "code",
   "execution_count": 50,
   "metadata": {},
   "outputs": [
    {
     "data": {
      "text/plain": [
       "<Axes: xlabel='tempo_construcao', ylabel='tamanho'>"
      ]
     },
     "execution_count": 50,
     "metadata": {},
     "output_type": "execute_result"
    },
    {
     "data": {
      "image/png": "[encoded data removed]",
      "text/plain": [
       "<Figure size 640x480 with 1 Axes>"
      ]
     },
     "metadata": {},
     "output_type": "display_data"
    }
   ],
   "source": [
    "df.plot(\"tempo_construcao\", \"tamanho\", \"scatter\")"
   ]
  }
 ],
 "metadata": {
  "kernelspec": {
   "display_name": "Python 3",
   "language": "python",
   "name": "python3"
  },
  "language_info": {
   "codemirror_mode": {
    "name": "ipython",
    "version": 3
   },
   "file_extension": ".py",
   "mimetype": "text/x-python",
   "name": "python",
   "nbconvert_exporter": "python",
   "pygments_lexer": "ipython3",
   "version": "3.13.2"
  }
 },
 "nbformat": 4,
 "nbformat_minor": 2
}
